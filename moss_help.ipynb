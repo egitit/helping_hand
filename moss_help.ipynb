{
 "cells": [
  {
   "cell_type": "code",
   "execution_count": 1,
   "metadata": {},
   "outputs": [],
   "source": [
    "def contains_evens(lst):\n",
    "    \"\"\"Checks if the input list contains any even numbers.\n",
    "    Parameters\n",
    "    ----------\n",
    "    lst : list\n",
    "        A list of integers\n",
    "    Returns\n",
    "    -------\n",
    "    evens : bool\n",
    "        Whether the input contains any even numbers\n",
    "    \"\"\"\n",
    "    for num in lst:\n",
    "        evens = True\n",
    "        if num % 2 == 0:\n",
    "            break\n",
    "        return evens"
   ]
  },
  {
   "cell_type": "code",
   "execution_count": 2,
   "metadata": {},
   "outputs": [],
   "source": [
    "def contains_evens(lst):\n",
    "    \"\"\"\n",
    "    Checks if the input list contains any even numbers.\n",
    "    Parameters\n",
    "    ----------\n",
    "    lst : list\n",
    "        A list of integers\n",
    "    Returns\n",
    "    -------\n",
    "    evens : bool\n",
    "        Whether the input contains any even numbers\n",
    "    \"\"\"\n",
    "    # Create an empty list to append even values to\n",
    "    even = []\n",
    "    \n",
    "    # iterate through the list\n",
    "    for num in lst:\n",
    "        \n",
    "        # if the number is even and greator than 0, append the num to the even list\n",
    "        if (num % 2 == 0) & (num > 0):\n",
    "            even.append(num)\n",
    "        \n",
    "        # else, continue iterating through the list should it not be even\n",
    "        else:\n",
    "            continue\n",
    "    \n",
    "    # check the length of the even list, anything greator than 0 returns True, else False\n",
    "    if len(even) > 0:\n",
    "        return True\n",
    "    else:\n",
    "        return False"
   ]
  },
  {
   "cell_type": "code",
   "execution_count": 3,
   "metadata": {},
   "outputs": [],
   "source": [
    "lst = [1,1,1,1,1,0]"
   ]
  },
  {
   "cell_type": "code",
   "execution_count": 4,
   "metadata": {},
   "outputs": [
    {
     "data": {
      "text/plain": [
       "False"
      ]
     },
     "execution_count": 4,
     "metadata": {},
     "output_type": "execute_result"
    }
   ],
   "source": [
    "contains_evens(lst)"
   ]
  },
  {
   "cell_type": "code",
   "execution_count": 5,
   "metadata": {},
   "outputs": [],
   "source": [
    "def sum_only_evens(lst):\n",
    "    \"\"\"Sums only the even numbers in the given list.\n",
    "    Parameters\n",
    "    ----------\n",
    "    lst : list\n",
    "        A list of numbers to sum\n",
    "    Returns\n",
    "    -------\n",
    "    number (int or float)\n",
    "        The sum of the even numbers in 'lst'\n",
    "    \"\"\"\n",
    "    # create accumulator variable\n",
    "    tot = 0\n",
    "    \n",
    "    # Iterate through the numbers in the list\n",
    "    for num in lst:\n",
    "        \n",
    "        # If the number is not even, continue\n",
    "        if num % 2 != 0:\n",
    "            continue\n",
    "        \n",
    "        # If its even, add it to the tot variable\n",
    "        else:\n",
    "            tot += num\n",
    "    \n",
    "    # return the tot\n",
    "    return tot"
   ]
  },
  {
   "cell_type": "code",
   "execution_count": 6,
   "metadata": {},
   "outputs": [],
   "source": [
    "lst = [1,2,3,4,5,6,7,8,9,10]"
   ]
  },
  {
   "cell_type": "code",
   "execution_count": 7,
   "metadata": {},
   "outputs": [
    {
     "data": {
      "text/plain": [
       "30"
      ]
     },
     "execution_count": 7,
     "metadata": {},
     "output_type": "execute_result"
    }
   ],
   "source": [
    "sum_only_evens(lst)"
   ]
  },
  {
   "cell_type": "code",
   "execution_count": 8,
   "metadata": {},
   "outputs": [
    {
     "name": "stdout",
     "output_type": "stream",
     "text": [
      "int\n",
      "Not a number\n",
      "Not a number\n",
      "float\n",
      "Not a number\n",
      "float\n",
      "int\n"
     ]
    }
   ],
   "source": [
    "def is_number(string):\n",
    "    '''\n",
    "    If the string is a number, return its type as either \"int\" or \"float\"\n",
    "    You will need to account for numbers with a decimal point in them\n",
    "    An empty string should be considered \"Not a number\"\n",
    "    '''\n",
    "    # .isdigit() method will check if the string is an integer or not. If true, will return \"int\" -- covers integers\n",
    "    if string.isdigit() == True:\n",
    "        return \"int\"\n",
    "    \n",
    "    # create a decimal place Accumulator to now check for floats \n",
    "    float_check = 0\n",
    "    \n",
    "    # Create a list of all the values in the string\n",
    "    lst = [x for x in string]\n",
    "    \n",
    "    # Iterate through the list to check for decimal places (\".\")\n",
    "    for x in lst:\n",
    "        \n",
    "        # if there is a decimal in the string, float_check += 1\n",
    "        if x == \".\":\n",
    "            float_check += 1\n",
    "    \n",
    "    # if there's only 1 decimal in the string, its a float\n",
    "    if float_check == 1:\n",
    "        return \"float\"\n",
    "    \n",
    "    # Integer is covered as well as float, anyhting else is now considered \"Not a number\"\n",
    "    else:\n",
    "        return \"Not a number\"\n",
    "    \n",
    "a = \"3\"\n",
    "b = \"12.5234.15\"\n",
    "c = \"abc\"\n",
    "d = \"3.1\"\n",
    "e = \"ernie is the best at python 69 69 69\"\n",
    "f = \".1234567\"\n",
    "g = \"696969\"\n",
    "\n",
    "print(is_number(a))\n",
    "print(is_number(b))\n",
    "print(is_number(c))\n",
    "print(is_number(d))\n",
    "print(is_number(e))\n",
    "print(is_number(f))\n",
    "print(is_number(g))"
   ]
  },
  {
   "cell_type": "code",
   "execution_count": 9,
   "metadata": {},
   "outputs": [],
   "source": [
    "def split_on_this(split_me, splitter): \n",
    "    '''\n",
    "    This function takes the arguments:\n",
    "    - first it takes a string called split_me\n",
    "    - second it takes a letter called splitter.\n",
    "    \n",
    "    This function should return a list that is split on every occurrence of that letter. \n",
    "    If that letter is not in the string, the function should return \"Cannot split on that letter!\".\n",
    "    '''\n",
    "    # Break up the word to check for the splitter\n",
    "    check_lst = [x for x in split_me]\n",
    "    \n",
    "    # Use the count method to see if the splitter is even in the word or not, if not return cannot split!\n",
    "    if check_lst.count(splitter) == 0:\n",
    "        return \"Cannot split on that letter!\"\n",
    "\n",
    "    \n",
    "    else:\n",
    "        return [x for x in split_me.split(splitter)]"
   ]
  },
  {
   "cell_type": "code",
   "execution_count": 10,
   "metadata": {},
   "outputs": [
    {
     "data": {
      "text/plain": [
       "['l', 'l', 'l', 'l']"
      ]
     },
     "execution_count": 10,
     "metadata": {},
     "output_type": "execute_result"
    }
   ],
   "source": [
    "split_on_this(\"lololol\", \"o\")"
   ]
  },
  {
   "cell_type": "code",
   "execution_count": 11,
   "metadata": {},
   "outputs": [],
   "source": [
    "def string_op(string, command):\n",
    "    '''\n",
    "    Parameters:\n",
    "    1. string - a string on which an operation will be performed.\n",
    "    2. command - can be any variation of the words \"upper\", \"lower\", and \"capitalize\"\n",
    "        (for example, \"upper\" could be spelled \"uPPeR\", \"LoWer\", etc)\n",
    "    \n",
    "    Returns:\n",
    "    - The updated string with the command.\n",
    "    - If the command isn't valid, return \"Invalid command!\".\n",
    "    \n",
    "    Example:\n",
    "    string_op(\"THis iS AN ExamPLe\", \"UpPer\") -> \"THIS IS AN EXAMPLE\"\n",
    "    '''\n",
    "    # Since the command can come in upper or lower, standardize it with the .lower() method\n",
    "    command = command.lower()\n",
    "    \n",
    "    # Check to see if the command is a lower statement\n",
    "    if command == \"lower\":\n",
    "        # if its lower, use the lower method on the string and set it equal to itself\n",
    "        string = string.lower()\n",
    "        # Return the updated string\n",
    "        return string\n",
    "    \n",
    "    # Else/If the command is upper or capitalize, follow a similar process\n",
    "    elif command == \"upper\":\n",
    "        # update the new string using the upper() method\n",
    "        string = string.upper()\n",
    "        # Return the upper string\n",
    "        return string\n",
    "    \n",
    "    elif command == \"capitalize\":\n",
    "        string = string.capitalize()\n",
    "        return string\n",
    "\n",
    "    \n",
    "    # Else, return invalid command\n",
    "    else:\n",
    "        return \"Invalid command!\""
   ]
  },
  {
   "cell_type": "code",
   "execution_count": 12,
   "metadata": {},
   "outputs": [
    {
     "data": {
      "text/plain": [
       "'ernie'"
      ]
     },
     "execution_count": 12,
     "metadata": {},
     "output_type": "execute_result"
    }
   ],
   "source": [
    "string_op(\"ErNie\", \"LOWER\")"
   ]
  },
  {
   "cell_type": "code",
   "execution_count": 13,
   "metadata": {},
   "outputs": [],
   "source": [
    "def f_string_ex(a,b,c):\n",
    "    '''\n",
    "    example to show you how to use an f-string\n",
    "    '''\n",
    "    tot = a + b - c\n",
    "    return f\"{a} + {b} - {c} = {tot}\""
   ]
  },
  {
   "cell_type": "code",
   "execution_count": 14,
   "metadata": {},
   "outputs": [
    {
     "data": {
      "text/plain": [
       "'2 + 6 - 69 = -61'"
      ]
     },
     "execution_count": 14,
     "metadata": {},
     "output_type": "execute_result"
    }
   ],
   "source": [
    "f_string_ex(2,6,69)"
   ]
  },
  {
   "cell_type": "code",
   "execution_count": null,
   "metadata": {},
   "outputs": [],
   "source": []
  },
  {
   "cell_type": "code",
   "execution_count": null,
   "metadata": {},
   "outputs": [],
   "source": []
  },
  {
   "cell_type": "code",
   "execution_count": 15,
   "metadata": {},
   "outputs": [],
   "source": [
    "def tup_hold_info(lst, find):\n",
    "    '''\n",
    "    Write a function called tup_hold_info that takes two arguments: \n",
    "    - lst, will hold a list of values.\n",
    "    - find, is the value to find. \n",
    "\n",
    "    Returns A tuple containing:\n",
    "    - the value that was supposed to be found,\n",
    "    - the number of times it was found, \n",
    "    - and a list of the indices where it was found. The values should be returned in the tuple in that order.\n",
    "    '''\n",
    "    # Get the count of the 'find' value using the count method\n",
    "    count = lst.count(find)\n",
    "    \n",
    "    # List comprehension with enumerate to identify all the indicies where num is == to find\n",
    "    # Fancy way to-do it\n",
    "    fin_lst = [idx for idx, num in enumerate(lst) if num == find]\n",
    "\n",
    "# Slower way to iterate through the lst...\n",
    "#     for idx, num in enumerate(lst):\n",
    "#         if num == find:\n",
    "#             fin_lst.append(idx)\n",
    "    \n",
    "    # Return the tuple with (find, count, and fin_lst) in that order\n",
    "    return (find, count, fin_lst)"
   ]
  },
  {
   "cell_type": "code",
   "execution_count": 16,
   "metadata": {},
   "outputs": [],
   "source": [
    "lst = [1,2,3,4,1,2,3,1,2,1]"
   ]
  },
  {
   "cell_type": "code",
   "execution_count": 17,
   "metadata": {},
   "outputs": [
    {
     "data": {
      "text/plain": [
       "(4, 1, [3])"
      ]
     },
     "execution_count": 17,
     "metadata": {},
     "output_type": "execute_result"
    }
   ],
   "source": [
    "tup_hold_info(lst, 4)"
   ]
  },
  {
   "cell_type": "code",
   "execution_count": 18,
   "metadata": {},
   "outputs": [
    {
     "name": "stdout",
     "output_type": "stream",
     "text": [
      "(1, 4, [0, 4, 7, 9])\n",
      "(2, 3, [1, 5, 8])\n",
      "(3, 2, [2, 6])\n",
      "(4, 1, [3])\n"
     ]
    }
   ],
   "source": [
    "for x in range(1,5):\n",
    "    print (tup_hold_info(lst, x))"
   ]
  },
  {
   "cell_type": "code",
   "execution_count": 19,
   "metadata": {},
   "outputs": [],
   "source": [
    "def remove_or_add(da_set, lst):\n",
    "    '''\n",
    "    Paramters:\n",
    "    da_set - The first parameter will be a set that will have an unknown count of numbers or letters\n",
    "    lst - The second parameter will be a list that also has an unknown count of letters or numbers\n",
    "\n",
    "    If a value in the list is not also in the set it should be added, \n",
    "    if the value is in the set it should be removed.\n",
    "\n",
    "    Returns:\n",
    "    a new updated set with the appropraite changes made\n",
    "\n",
    "    EX:\n",
    "    result = remove_or_add({1, 2, 3}, [1, 'a'])\n",
    "    # This will return {'a', 2, 3}\n",
    "    '''\n",
    "    for x in lst:\n",
    "        if x in da_set:\n",
    "            da_set.remove(x)\n",
    "        else:\n",
    "            da_set.add(x)\n",
    "    \n",
    "    return da_set    "
   ]
  },
  {
   "cell_type": "code",
   "execution_count": 20,
   "metadata": {},
   "outputs": [
    {
     "data": {
      "text/plain": [
       "{2, 3, 'a'}"
      ]
     },
     "execution_count": 20,
     "metadata": {},
     "output_type": "execute_result"
    }
   ],
   "source": [
    "remove_or_add({1, 2, 3}, [1, 'a'])"
   ]
  },
  {
   "cell_type": "code",
   "execution_count": null,
   "metadata": {},
   "outputs": [],
   "source": []
  },
  {
   "cell_type": "code",
   "execution_count": 21,
   "metadata": {},
   "outputs": [],
   "source": [
    "def dummy_func(x):\n",
    "    if x < 10:\n",
    "        if x < 3:\n",
    "            return \"This\"\n",
    "        elif x > 7:\n",
    "            return \"That\"\n",
    "        elif (x > 5) & (x < 4):\n",
    "            return \"beeches\"\n",
    "        else:\n",
    "            return \"dafuq is going on?\""
   ]
  },
  {
   "cell_type": "code",
   "execution_count": 22,
   "metadata": {},
   "outputs": [],
   "source": [
    "def dollas(x):\n",
    "    '''\n",
    "    parameters:\n",
    "    x - an integer value representing how much unemployment I have\n",
    "    \n",
    "    Returns:\n",
    "    How much money after taxes I'll get from unemployment\n",
    "    '''\n",
    "    #90 for every 900 gets taken out, determine how many 900 checks I can get from my current balanace\n",
    "    w = x // 900\n",
    "    \n",
    "    # Return 810 * the number of checks I'll get\n",
    "    return w*810"
   ]
  },
  {
   "cell_type": "code",
   "execution_count": 23,
   "metadata": {},
   "outputs": [
    {
     "data": {
      "text/plain": [
       "8100"
      ]
     },
     "execution_count": 23,
     "metadata": {},
     "output_type": "execute_result"
    }
   ],
   "source": [
    "dollas(9000)"
   ]
  },
  {
   "cell_type": "code",
   "execution_count": 24,
   "metadata": {},
   "outputs": [],
   "source": [
    "def letter_idx(s):\n",
    "    '''\n",
    "    Write a function called letter_idx and will track the indices of where the vowels occur in a string. \n",
    "\n",
    "    This function should:\n",
    "    s - Take a word or a sentence as an argument\n",
    "\n",
    "    Returns\n",
    "    - a dictionary with keys representing the vowels that occur in that sentence, \n",
    "    - and values representing the indices where that vowel occurs in the word or sentence\n",
    "    - For this exercise the letter y is considered a vowel\n",
    "\n",
    "    EX:\n",
    "    letter_idx(\"Hello there!\") ---> {'e' : [1, 8, 10], 'o' : [4]}\n",
    "    '''\n",
    "    vowels = \"aeiouy\"\n",
    "    s = s.lower()\n",
    "    d = {}\n",
    "    \n",
    "    for letter in s:\n",
    "        if letter in vowels:\n",
    "            d[letter] = [idx for idx, letters in enumerate(s) if letter == letters]\n",
    "    \n",
    "    return d\n"
   ]
  },
  {
   "cell_type": "code",
   "execution_count": 25,
   "metadata": {},
   "outputs": [
    {
     "data": {
      "text/plain": [
       "{'e': [1, 2, 3], 'o': [6, 7, 8, 11]}"
      ]
     },
     "execution_count": 25,
     "metadata": {},
     "output_type": "execute_result"
    }
   ],
   "source": [
    "letter_idx(\"heeellooo world!\")"
   ]
  },
  {
   "cell_type": "code",
   "execution_count": 26,
   "metadata": {},
   "outputs": [],
   "source": [
    "def find_value(search_dict, val_2_find):\n",
    "    '''\n",
    "    Paramters:\n",
    "    The first parameter, called search_dict, is a dictionary. \n",
    "    ex: {'Dog': 3, 'Cat': 4, 'Snake': 3, 'Fish': 4, 'Frog': 5}\n",
    "    \n",
    "    The second parameter, val_2_find, is a specific value to find in the dictionary.\n",
    "    ex: 3\n",
    "\n",
    "    Returns:\n",
    "    If the value is in the dictionary -- it should return a list of the corresponding key or keys (if the value occurs more than once).\n",
    "    If the value is not in the dictionary -- it should return the phrase \"That value does not exist!\".\n",
    "    ['Dog', 'Snake']\n",
    "    '''\n",
    "    lst = [key for key, value in search_dict.items() if value == val_2_find]\n",
    "    # 84.6 ns\n",
    "    #vs\n",
    "    # 86.9 ns with a longer for-loop\n",
    "\n",
    "    # Longer for-loop\n",
    "#     lst = []\n",
    "#     for key, value in search_dict.items():\n",
    "#         if value == val_2_find:\n",
    "#             lst.append(key)\n",
    "    \n",
    "    if len(lst) == 0:\n",
    "        return \"That value does not exist!\"\n",
    "    \n",
    "    else:\n",
    "        return lst"
   ]
  },
  {
   "cell_type": "code",
   "execution_count": 27,
   "metadata": {},
   "outputs": [],
   "source": [
    "def try_to_remove(test_dict, test_key, pop = True):\n",
    "    '''\n",
    "    Paramters:\n",
    "    test_dict - A dictionary.\n",
    "    test_key - A key that might or might not be in the dictionary.\n",
    "    pop - A parameter named pop whose default argument is True.\n",
    "    '''\n",
    "    \n",
    "    # The function should check to see if test_key is in test_dict.\n",
    "    if test_key in test_dict.keys():\n",
    "        \n",
    "        # If it is and pop=True, the function should pop the value of the input dictionary and return it.\n",
    "        if pop == True:\n",
    "            return test_dict.pop(test_key)\n",
    "        \n",
    "        # If test_key is in test_dict and pop=False, remove that key value pair from the dictionary\n",
    "        elif pop == False:\n",
    "            del test_dict[test_key]\n",
    "    \n",
    "    # If test_key is not in test_dict, the function should return the string, \"Key not found.\"\n",
    "    else:\n",
    "        return \"Key not found.\"\n",
    "        \n",
    "\n",
    "#             if (key == test_key) & (pop == True):\n",
    "#                 return test_dict.pop(key)\n",
    "#             elif (key == test_key) & (pop == False):\n",
    "#                 del test_dict[key]\n",
    "#             else:\n",
    "#                 "
   ]
  },
  {
   "cell_type": "code",
   "execution_count": 28,
   "metadata": {},
   "outputs": [],
   "source": [
    "d = {\"a\":1, \"b\":3, \"c\":2}"
   ]
  },
  {
   "cell_type": "code",
   "execution_count": 29,
   "metadata": {},
   "outputs": [
    {
     "data": {
      "text/plain": [
       "'Key not found.'"
      ]
     },
     "execution_count": 29,
     "metadata": {},
     "output_type": "execute_result"
    }
   ],
   "source": [
    "try_to_remove(d, \"x\", True)"
   ]
  },
  {
   "cell_type": "code",
   "execution_count": 30,
   "metadata": {},
   "outputs": [
    {
     "data": {
      "text/plain": [
       "{'a': 1, 'b': 3, 'c': 2}"
      ]
     },
     "execution_count": 30,
     "metadata": {},
     "output_type": "execute_result"
    }
   ],
   "source": [
    "d"
   ]
  },
  {
   "cell_type": "code",
   "execution_count": 31,
   "metadata": {},
   "outputs": [],
   "source": [
    "\n",
    "def delete_dups(d):\n",
    "    '''\n",
    "    Parameter:\n",
    "    d - a dictionary\n",
    "    \n",
    "    This function should go through the values inside the dictionary \n",
    "    and remove any key/value pairs where the value occurs more than once inside the dictionary.\n",
    "    '''\n",
    "    d2 = {}\n",
    "    \n",
    "    for key, value in d.items():\n",
    "        if value not in d2.values():\n",
    "            d2[key] = value\n",
    "    return d2"
   ]
  },
  {
   "cell_type": "code",
   "execution_count": 32,
   "metadata": {},
   "outputs": [],
   "source": [
    "rd = {1: 'one', 2: 'two', 3: 'one', 4: 'four'}"
   ]
  },
  {
   "cell_type": "code",
   "execution_count": 33,
   "metadata": {},
   "outputs": [
    {
     "data": {
      "text/plain": [
       "{1: 'one', 2: 'two', 4: 'four'}"
      ]
     },
     "execution_count": 33,
     "metadata": {},
     "output_type": "execute_result"
    }
   ],
   "source": [
    "delete_dups(rd)"
   ]
  },
  {
   "cell_type": "code",
   "execution_count": null,
   "metadata": {},
   "outputs": [],
   "source": []
  },
  {
   "cell_type": "code",
   "execution_count": 34,
   "metadata": {},
   "outputs": [],
   "source": [
    "def sep_and_sort(*args):\n",
    "    '''\n",
    "    Parameters:\n",
    "    *args - Write a function called , which takes any number of unnamed parameters\n",
    "    \n",
    "    \n",
    "    This function will take any number of integers and floating point numbers:\n",
    "    - It should go through all of the items that were passed,\n",
    "    - separate them by type, \n",
    "    - and then sort each collection\n",
    "    \n",
    "    Returns:\n",
    "    The return value should be a list of lists,\n",
    "    where the first nested list is for the integers, and the second nested list is for the floating point numbers\n",
    "    If no values of a specific type are passed do not return an empty list for that type, remove it altogether. For example: sep_and_sort(1, 2, -5) -> [[-5, 1, 2]]\n",
    "    '''\n",
    "    int_lst = [var for var in args if type(var) == int]\n",
    "    flt_lst = [var for var in args if type(var) == float]\n",
    "    \n",
    "    if (len(int_lst) == 0) & (len(flt_lst) == 0):\n",
    "        return []\n",
    "    elif len(int_lst) == 0:\n",
    "        return [sorted(flt_lst)]\n",
    "    elif len(flt_lst) == 0:\n",
    "        return [sorted(int_lst)]\n",
    "    else:\n",
    "        return [ sorted(int_lst), sorted(flt_lst) ]\n",
    "    \n",
    "    "
   ]
  },
  {
   "cell_type": "code",
   "execution_count": 35,
   "metadata": {
    "scrolled": true
   },
   "outputs": [
    {
     "data": {
      "text/plain": [
       "[]"
      ]
     },
     "execution_count": 35,
     "metadata": {},
     "output_type": "execute_result"
    }
   ],
   "source": [
    "sep_and_sort()#2, 4.5, 2.5)#4.5, 2.3, 1.7)"
   ]
  },
  {
   "cell_type": "code",
   "execution_count": 36,
   "metadata": {},
   "outputs": [],
   "source": [
    "person = {'firstName': 'Jaden', 'lastName': 'Smith'}"
   ]
  },
  {
   "cell_type": "code",
   "execution_count": 37,
   "metadata": {},
   "outputs": [],
   "source": [
    "def add_full_name(d):\n",
    "    '''\n",
    "    Given a dictionary (d) that has:\n",
    "    - a \"firstName\" key \n",
    "    - a \"lastName\" key, \n",
    "    \"add_full_name\" adds a \"fullName\" key whose value is a string with the first name and last name separated by a space. \n",
    "    \n",
    "    Returns:\n",
    "    The function returns a new dictionary with the added value.\n",
    "    '''\n",
    "    d[\"fullName\"] = d[\"firstName\"] + \" \" + d[\"lastName\"]\n",
    "    return d"
   ]
  },
  {
   "cell_type": "code",
   "execution_count": 38,
   "metadata": {},
   "outputs": [
    {
     "data": {
      "text/plain": [
       "{'firstName': 'Jaden', 'lastName': 'Smith', 'fullName': 'Jaden Smith'}"
      ]
     },
     "execution_count": 38,
     "metadata": {},
     "output_type": "execute_result"
    }
   ],
   "source": [
    "add_full_name(person)"
   ]
  },
  {
   "cell_type": "code",
   "execution_count": 39,
   "metadata": {},
   "outputs": [],
   "source": [
    "def get_elements_less_than_100_at_a_value(d, key):\n",
    "    '''\n",
    "    Given a dictionary and a key, the function returns a list containing all the elements of the \n",
    "    list located at the given key that are less than 100.\n",
    "    \n",
    "    \n",
    "    Notes:\n",
    "    X - If the list is empty, it should return an empty list.\n",
    "    X - If the list contains no elements less than 100, it should return an empty list.\n",
    "    X - If the property at the given key is not a list, it should return an empty list.\n",
    "    X - If there is no property at the key, it should return an empty list.\n",
    "    '''\n",
    "    lst = []\n",
    "    \n",
    "    for k,v in d.items():\n",
    "        if k == key:\n",
    "            if type(v) == list:\n",
    "                for x in v:\n",
    "                    if x < 100:\n",
    "                        lst.append(x)\n",
    "            else:\n",
    "                return lst\n",
    "    return lst"
   ]
  },
  {
   "cell_type": "code",
   "execution_count": 40,
   "metadata": {},
   "outputs": [],
   "source": [
    "obj = {'key': [1000, 20, 50, 500, 100], 'key2': [101, 200, 301, 99, 80, 4], 'key3': \"ERnie\"}"
   ]
  },
  {
   "cell_type": "code",
   "execution_count": 41,
   "metadata": {},
   "outputs": [
    {
     "data": {
      "text/plain": [
       "[20, 50]"
      ]
     },
     "execution_count": 41,
     "metadata": {},
     "output_type": "execute_result"
    }
   ],
   "source": [
    "get_elements_less_than_100_at_a_value(obj, 'key')"
   ]
  },
  {
   "cell_type": "code",
   "execution_count": 45,
   "metadata": {},
   "outputs": [],
   "source": [
    "def get_nth_element_of_value(d, key, n):\n",
    "    '''\n",
    "    Given a dictionary and a key, \"get_nth_element_of_value\" returns the nth element of a list located at the given key.\n",
    "    \n",
    "    Notes:\n",
    "    X - If the list is empty, it should return None.\n",
    "    If n is out of range, it should return None.\n",
    "    X - If the property at the given key is not a list, it should return None.\n",
    "    X - If there is no property at the key, it should return None.\n",
    "    X - Counting of elements starts at element zero.\n",
    "    '''\n",
    "    for k, v in d.items():\n",
    "        if key in k:\n",
    "            p"
   ]
  },
  {
   "cell_type": "code",
   "execution_count": 46,
   "metadata": {},
   "outputs": [],
   "source": [
    "obj = {'key': [1, 2, 6], 'key2': [1], 'key3': \"ernie\"}"
   ]
  },
  {
   "cell_type": "code",
   "execution_count": 47,
   "metadata": {},
   "outputs": [
    {
     "name": "stdout",
     "output_type": "stream",
     "text": [
      "None\n"
     ]
    }
   ],
   "source": [
    "get_nth_element_of_value(obj, 'key', 1)"
   ]
  },
  {
   "cell_type": "code",
   "execution_count": null,
   "metadata": {},
   "outputs": [],
   "source": []
  },
  {
   "cell_type": "code",
   "execution_count": 19,
   "metadata": {},
   "outputs": [],
   "source": [
    "\n",
    "def high_and_low(string):\n",
    "    '''\n",
    "    n this little assignment you are given a string of space separated numbers, \n",
    "    and have to return the highest and lowest number.\n",
    "    \n",
    "    Example:\n",
    "    high_and_low(\"1 2 3 4 5\")  # return \"5 1\"\n",
    "    high_and_low(\"1 2 -3 4 5\") # return \"5 -3\"\n",
    "    high_and_low(\"1 9 3 4 -5\") # return \"9 -5\"\n",
    "    '''\n",
    "    lst = [int(x) for x in string.split(\" \")]\n",
    "    min_ = str(min(lst))\n",
    "    max_ = str(max(lst))\n",
    "    return max_ + \" \" + min_\n",
    "\n"
   ]
  },
  {
   "cell_type": "code",
   "execution_count": 20,
   "metadata": {},
   "outputs": [
    {
     "data": {
      "text/plain": [
       "'9 -5'"
      ]
     },
     "execution_count": 20,
     "metadata": {},
     "output_type": "execute_result"
    }
   ],
   "source": [
    "high_and_low(\"1 9 3 4 -5\")"
   ]
  },
  {
   "cell_type": "code",
   "execution_count": null,
   "metadata": {},
   "outputs": [],
   "source": []
  }
 ],
 "metadata": {
  "kernelspec": {
   "display_name": "Python 3",
   "language": "python",
   "name": "python3"
  },
  "language_info": {
   "codemirror_mode": {
    "name": "ipython",
    "version": 3
   },
   "file_extension": ".py",
   "mimetype": "text/x-python",
   "name": "python",
   "nbconvert_exporter": "python",
   "pygments_lexer": "ipython3",
   "version": "3.8.3"
  }
 },
 "nbformat": 4,
 "nbformat_minor": 4
}
